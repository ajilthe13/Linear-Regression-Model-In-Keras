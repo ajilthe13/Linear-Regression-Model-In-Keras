{
 "cells": [
  {
   "cell_type": "markdown",
   "id": "3082c784",
   "metadata": {},
   "source": [
    "# Linear Regression Model in Keras"
   ]
  },
  {
   "cell_type": "code",
   "execution_count": 1,
   "id": "b39ad9cf",
   "metadata": {},
   "outputs": [
    {
     "name": "stderr",
     "output_type": "stream",
     "text": [
      "C:\\Users\\Admin\\anaconda3\\lib\\site-packages\\outdated\\utils.py:14: OutdatedPackageWarning: The package pingouin is out of date. Your version is 0.5.0, the latest is 0.5.2.\n",
      "Set the environment variable OUTDATED_IGNORE=1 to disable these warnings.\n",
      "  return warn(\n"
     ]
    }
   ],
   "source": [
    "import pandas as pd\n",
    "import numpy as np\n",
    "import seaborn as sns\n",
    "import matplotlib.pyplot as plt\n",
    "import pingouin as pg\n",
    "from pingouin import ttest"
   ]
  },
  {
   "cell_type": "code",
   "execution_count": 2,
   "id": "6bde5385",
   "metadata": {},
   "outputs": [],
   "source": [
    "import tensorflow as tf\n",
    "from tensorflow import keras"
   ]
  },
  {
   "cell_type": "markdown",
   "id": "24d59f9c",
   "metadata": {},
   "source": [
    "### Objective : To predict the prices of house using eight different independent variables."
   ]
  },
  {
   "cell_type": "markdown",
   "id": "24011e91",
   "metadata": {},
   "source": [
    "### Importing Dataset"
   ]
  },
  {
   "cell_type": "code",
   "execution_count": 4,
   "id": "0f41b893",
   "metadata": {},
   "outputs": [
    {
     "data": {
      "text/plain": [
       "{'data': array([[   8.3252    ,   41.        ,    6.98412698, ...,    2.55555556,\n",
       "           37.88      , -122.23      ],\n",
       "        [   8.3014    ,   21.        ,    6.23813708, ...,    2.10984183,\n",
       "           37.86      , -122.22      ],\n",
       "        [   7.2574    ,   52.        ,    8.28813559, ...,    2.80225989,\n",
       "           37.85      , -122.24      ],\n",
       "        ...,\n",
       "        [   1.7       ,   17.        ,    5.20554273, ...,    2.3256351 ,\n",
       "           39.43      , -121.22      ],\n",
       "        [   1.8672    ,   18.        ,    5.32951289, ...,    2.12320917,\n",
       "           39.43      , -121.32      ],\n",
       "        [   2.3886    ,   16.        ,    5.25471698, ...,    2.61698113,\n",
       "           39.37      , -121.24      ]]),\n",
       " 'target': array([4.526, 3.585, 3.521, ..., 0.923, 0.847, 0.894]),\n",
       " 'frame': None,\n",
       " 'target_names': ['MedHouseVal'],\n",
       " 'feature_names': ['MedInc',\n",
       "  'HouseAge',\n",
       "  'AveRooms',\n",
       "  'AveBedrms',\n",
       "  'Population',\n",
       "  'AveOccup',\n",
       "  'Latitude',\n",
       "  'Longitude'],\n",
       " 'DESCR': '.. _california_housing_dataset:\\n\\nCalifornia Housing dataset\\n--------------------------\\n\\n**Data Set Characteristics:**\\n\\n    :Number of Instances: 20640\\n\\n    :Number of Attributes: 8 numeric, predictive attributes and the target\\n\\n    :Attribute Information:\\n        - MedInc        median income in block group\\n        - HouseAge      median house age in block group\\n        - AveRooms      average number of rooms per household\\n        - AveBedrms     average number of bedrooms per household\\n        - Population    block group population\\n        - AveOccup      average number of household members\\n        - Latitude      block group latitude\\n        - Longitude     block group longitude\\n\\n    :Missing Attribute Values: None\\n\\nThis dataset was obtained from the StatLib repository.\\nhttps://www.dcc.fc.up.pt/~ltorgo/Regression/cal_housing.html\\n\\nThe target variable is the median house value for California districts,\\nexpressed in hundreds of thousands of dollars ($100,000).\\n\\nThis dataset was derived from the 1990 U.S. census, using one row per census\\nblock group. A block group is the smallest geographical unit for which the U.S.\\nCensus Bureau publishes sample data (a block group typically has a population\\nof 600 to 3,000 people).\\n\\nAn household is a group of people residing within a home. Since the average\\nnumber of rooms and bedrooms in this dataset are provided per household, these\\ncolumns may take surpinsingly large values for block groups with few households\\nand many empty houses, such as vacation resorts.\\n\\nIt can be downloaded/loaded using the\\n:func:`sklearn.datasets.fetch_california_housing` function.\\n\\n.. topic:: References\\n\\n    - Pace, R. Kelley and Ronald Barry, Sparse Spatial Autoregressions,\\n      Statistics and Probability Letters, 33 (1997) 291-297\\n'}"
      ]
     },
     "execution_count": 4,
     "metadata": {},
     "output_type": "execute_result"
    }
   ],
   "source": [
    "from sklearn.datasets import fetch_california_housing\n",
    "housing = fetch_california_housing()\n",
    "housing"
   ]
  },
  {
   "cell_type": "markdown",
   "id": "62f09453",
   "metadata": {},
   "source": [
    "### Number of Instance: 20640\n",
    "### Number of Attributes: 8 Numeric, predictive attributes and the target"
   ]
  },
  {
   "cell_type": "code",
   "execution_count": 5,
   "id": "519517ab",
   "metadata": {},
   "outputs": [
    {
     "name": "stdout",
     "output_type": "stream",
     "text": [
      "['MedInc', 'HouseAge', 'AveRooms', 'AveBedrms', 'Population', 'AveOccup', 'Latitude', 'Longitude']\n"
     ]
    }
   ],
   "source": [
    "print(housing.feature_names)"
   ]
  },
  {
   "cell_type": "code",
   "execution_count": 6,
   "id": "f1af19b1",
   "metadata": {},
   "outputs": [],
   "source": [
    "from sklearn.model_selection import train_test_split"
   ]
  },
  {
   "cell_type": "code",
   "execution_count": 7,
   "id": "182db3d6",
   "metadata": {},
   "outputs": [],
   "source": [
    "X_train_full,X_test, y_train_full,y_test = train_test_split(housing.data, housing.target, random_state=42)\n",
    "X_train,X_valid, y_train,y_valid = train_test_split(X_train_full,y_train_full, random_state=42)"
   ]
  },
  {
   "cell_type": "code",
   "execution_count": 8,
   "id": "263ca9f2",
   "metadata": {},
   "outputs": [],
   "source": [
    "from sklearn.preprocessing import StandardScaler\n",
    "scaler = StandardScaler()\n",
    "X_train = scaler.fit_transform(X_train)\n",
    "X_valid = scaler.fit_transform(X_valid)\n",
    "X_test = scaler.fit_transform(X_test)"
   ]
  },
  {
   "cell_type": "code",
   "execution_count": 9,
   "id": "b0c1c231",
   "metadata": {},
   "outputs": [],
   "source": [
    "np.random.seed(42)\n",
    "tf.random.set_seed(42)"
   ]
  },
  {
   "cell_type": "code",
   "execution_count": 10,
   "id": "abd215f1",
   "metadata": {},
   "outputs": [
    {
     "data": {
      "text/plain": [
       "(11610, 8)"
      ]
     },
     "execution_count": 10,
     "metadata": {},
     "output_type": "execute_result"
    }
   ],
   "source": [
    "X_train.shape"
   ]
  },
  {
   "cell_type": "markdown",
   "id": "9cc5c942",
   "metadata": {},
   "source": [
    "### Creating structure for Neural Network"
   ]
  },
  {
   "cell_type": "code",
   "execution_count": 14,
   "id": "9effbd88",
   "metadata": {},
   "outputs": [],
   "source": [
    "model = keras.models.Sequential([\n",
    "    keras.layers.Dense(30, activation=\"relu\", input_shape=[8]),\n",
    "    keras.layers.Dense(30, activation=\"relu\"),\n",
    "    keras.layers.Dense(1)\n",
    "])"
   ]
  },
  {
   "cell_type": "code",
   "execution_count": 15,
   "id": "9e9ac4a9",
   "metadata": {},
   "outputs": [
    {
     "data": {
      "image/png": "[encoded data removed]",
      "text/plain": [
       "<IPython.core.display.Image object>"
      ]
     },
     "execution_count": 15,
     "metadata": {},
     "output_type": "execute_result"
    }
   ],
   "source": [
    "import pydot\n",
    "keras.utils.plot_model(model)"
   ]
  },
  {
   "cell_type": "code",
   "execution_count": 16,
   "id": "eef3bbdf",
   "metadata": {},
   "outputs": [
    {
     "name": "stdout",
     "output_type": "stream",
     "text": [
      "Model: \"sequential_2\"\n",
      "_________________________________________________________________\n",
      "Layer (type)                 Output Shape              Param #   \n",
      "=================================================================\n",
      "dense_6 (Dense)              (None, 30)                270       \n",
      "_________________________________________________________________\n",
      "dense_7 (Dense)              (None, 30)                930       \n",
      "_________________________________________________________________\n",
      "dense_8 (Dense)              (None, 1)                 31        \n",
      "=================================================================\n",
      "Total params: 1,231\n",
      "Trainable params: 1,231\n",
      "Non-trainable params: 0\n",
      "_________________________________________________________________\n"
     ]
    }
   ],
   "source": [
    "model.summary()"
   ]
  },
  {
   "cell_type": "markdown",
   "id": "b6a00d8a",
   "metadata": {},
   "source": [
    "### Compiling Model"
   ]
  },
  {
   "cell_type": "code",
   "execution_count": 17,
   "id": "f05d6caa",
   "metadata": {},
   "outputs": [],
   "source": [
    "model.compile(loss=\"mean_squared_error\",\n",
    "              optimizer=keras.optimizers.SGD(lr=1e-3),\n",
    "              metrics=[\"mae\"])"
   ]
  },
  {
   "cell_type": "code",
   "execution_count": 18,
   "id": "f5117e31",
   "metadata": {},
   "outputs": [
    {
     "name": "stdout",
     "output_type": "stream",
     "text": [
      "Epoch 1/20\n",
      "363/363 [==============================] - 0s 849us/step - loss: 1.4581 - mae: 0.8737 - val_loss: 0.8261 - val_mae: 0.6809\n",
      "Epoch 2/20\n",
      "363/363 [==============================] - 0s 569us/step - loss: 0.7368 - mae: 0.6366 - val_loss: 0.6971 - val_mae: 0.6198\n",
      "Epoch 3/20\n",
      "363/363 [==============================] - 0s 558us/step - loss: 0.6516 - mae: 0.5904 - val_loss: 0.6317 - val_mae: 0.5832\n",
      "Epoch 4/20\n",
      "363/363 [==============================] - 0s 558us/step - loss: 0.5951 - mae: 0.5606 - val_loss: 0.5943 - val_mae: 0.5699\n",
      "Epoch 5/20\n",
      "363/363 [==============================] - 0s 544us/step - loss: 0.5536 - mae: 0.5376 - val_loss: 0.5578 - val_mae: 0.5484\n",
      "Epoch 6/20\n",
      "363/363 [==============================] - 0s 560us/step - loss: 0.5199 - mae: 0.5206 - val_loss: 0.5338 - val_mae: 0.5368\n",
      "Epoch 7/20\n",
      "363/363 [==============================] - 0s 558us/step - loss: 0.4940 - mae: 0.5059 - val_loss: 0.5146 - val_mae: 0.5284\n",
      "Epoch 8/20\n",
      "363/363 [==============================] - 0s 558us/step - loss: 0.4730 - mae: 0.4944 - val_loss: 0.4992 - val_mae: 0.5191\n",
      "Epoch 9/20\n",
      "363/363 [==============================] - 0s 544us/step - loss: 0.4563 - mae: 0.4856 - val_loss: 0.4867 - val_mae: 0.5137\n",
      "Epoch 10/20\n",
      "363/363 [==============================] - 0s 615us/step - loss: 0.4431 - mae: 0.4790 - val_loss: 0.4755 - val_mae: 0.5060\n",
      "Epoch 11/20\n",
      "363/363 [==============================] - 0s 558us/step - loss: 0.4333 - mae: 0.4729 - val_loss: 0.4702 - val_mae: 0.5079\n",
      "Epoch 12/20\n",
      "363/363 [==============================] - 0s 580us/step - loss: 0.4250 - mae: 0.4689 - val_loss: 0.4627 - val_mae: 0.5002\n",
      "Epoch 13/20\n",
      "363/363 [==============================] - 0s 558us/step - loss: 0.4183 - mae: 0.4651 - val_loss: 0.4609 - val_mae: 0.5046\n",
      "Epoch 14/20\n",
      "363/363 [==============================] - 0s 599us/step - loss: 0.4128 - mae: 0.4621 - val_loss: 0.4567 - val_mae: 0.5022\n",
      "Epoch 15/20\n",
      "363/363 [==============================] - 0s 533us/step - loss: 0.4081 - mae: 0.4597 - val_loss: 0.4505 - val_mae: 0.4955\n",
      "Epoch 16/20\n",
      "363/363 [==============================] - 0s 552us/step - loss: 0.4041 - mae: 0.4575 - val_loss: 0.4489 - val_mae: 0.4961\n",
      "Epoch 17/20\n",
      "363/363 [==============================] - 0s 560us/step - loss: 0.4005 - mae: 0.4552 - val_loss: 0.4448 - val_mae: 0.4911\n",
      "Epoch 18/20\n",
      "363/363 [==============================] - 0s 610us/step - loss: 0.3975 - mae: 0.4533 - val_loss: 0.4427 - val_mae: 0.4886\n",
      "Epoch 19/20\n",
      "363/363 [==============================] - 0s 585us/step - loss: 0.3941 - mae: 0.4508 - val_loss: 0.4412 - val_mae: 0.4867\n",
      "Epoch 20/20\n",
      "363/363 [==============================] - 0s 566us/step - loss: 0.3920 - mae: 0.4494 - val_loss: 0.4390 - val_mae: 0.4888\n"
     ]
    }
   ],
   "source": [
    "model_history =model.fit(X_train, y_train, epochs=20, validation_data=(X_valid,y_valid))"
   ]
  },
  {
   "cell_type": "code",
   "execution_count": 19,
   "id": "e4103787",
   "metadata": {},
   "outputs": [
    {
     "name": "stdout",
     "output_type": "stream",
     "text": [
      "162/162 [==============================] - 0s 382us/step - loss: 0.4004 - mae: 0.4640\n"
     ]
    }
   ],
   "source": [
    "mae_test = model.evaluate(X_test, y_test)"
   ]
  },
  {
   "cell_type": "markdown",
   "id": "8e26bd2a",
   "metadata": {},
   "source": [
    "### History shows all the loss,accuracy,validation loss and validation accuracy in the form of dictionary"
   ]
  },
  {
   "cell_type": "code",
   "execution_count": 20,
   "id": "fa349ad0",
   "metadata": {},
   "outputs": [
    {
     "data": {
      "text/plain": [
       "{'loss': [1.4580892324447632,\n",
       "  0.7367941737174988,\n",
       "  0.651635468006134,\n",
       "  0.5950537919998169,\n",
       "  0.5535702109336853,\n",
       "  0.5198774337768555,\n",
       "  0.4939758777618408,\n",
       "  0.4730287194252014,\n",
       "  0.456320583820343,\n",
       "  0.44314220547676086,\n",
       "  0.43333399295806885,\n",
       "  0.42498552799224854,\n",
       "  0.41834506392478943,\n",
       "  0.4127565920352936,\n",
       "  0.40805748105049133,\n",
       "  0.4040544033050537,\n",
       "  0.4004797339439392,\n",
       "  0.39752626419067383,\n",
       "  0.3941407799720764,\n",
       "  0.39196085929870605],\n",
       " 'mae': [0.8736512064933777,\n",
       "  0.6365818381309509,\n",
       "  0.5903517603874207,\n",
       "  0.5606289505958557,\n",
       "  0.5376178622245789,\n",
       "  0.5206178426742554,\n",
       "  0.5059438347816467,\n",
       "  0.49444258213043213,\n",
       "  0.48563152551651,\n",
       "  0.4790119528770447,\n",
       "  0.4728528559207916,\n",
       "  0.46888673305511475,\n",
       "  0.46507835388183594,\n",
       "  0.4621105492115021,\n",
       "  0.45967036485671997,\n",
       "  0.45747238397598267,\n",
       "  0.4551945924758911,\n",
       "  0.4533323347568512,\n",
       "  0.45084449648857117,\n",
       "  0.44942188262939453],\n",
       " 'val_loss': [0.8260940313339233,\n",
       "  0.6970961689949036,\n",
       "  0.6316672563552856,\n",
       "  0.5943050384521484,\n",
       "  0.5578499436378479,\n",
       "  0.5338014960289001,\n",
       "  0.514647901058197,\n",
       "  0.4992299973964691,\n",
       "  0.4866662621498108,\n",
       "  0.47554200887680054,\n",
       "  0.4702414274215698,\n",
       "  0.4627363383769989,\n",
       "  0.4609088897705078,\n",
       "  0.45672276616096497,\n",
       "  0.4505458176136017,\n",
       "  0.44885915517807007,\n",
       "  0.4447816014289856,\n",
       "  0.44270917773246765,\n",
       "  0.4412117898464203,\n",
       "  0.4389990270137787],\n",
       " 'val_mae': [0.6809175610542297,\n",
       "  0.6197901964187622,\n",
       "  0.5831846594810486,\n",
       "  0.5699433088302612,\n",
       "  0.5483535528182983,\n",
       "  0.536791205406189,\n",
       "  0.5284055471420288,\n",
       "  0.5190948247909546,\n",
       "  0.5136660933494568,\n",
       "  0.5060089230537415,\n",
       "  0.5078992247581482,\n",
       "  0.500217616558075,\n",
       "  0.5046283006668091,\n",
       "  0.5021690130233765,\n",
       "  0.49553346633911133,\n",
       "  0.49608469009399414,\n",
       "  0.4911004602909088,\n",
       "  0.48859304189682007,\n",
       "  0.48673015832901,\n",
       "  0.48879507184028625]}"
      ]
     },
     "execution_count": 20,
     "metadata": {},
     "output_type": "execute_result"
    }
   ],
   "source": [
    "model_history.history"
   ]
  },
  {
   "cell_type": "markdown",
   "id": "2bf23396",
   "metadata": {},
   "source": [
    "### Plotting our dictionary"
   ]
  },
  {
   "cell_type": "code",
   "execution_count": 21,
   "id": "c78ec90c",
   "metadata": {},
   "outputs": [
    {
     "data": {
      "image/png": "[encoded data removed]",
      "text/plain": [
       "<Figure size 576x360 with 1 Axes>"
      ]
     },
     "metadata": {
      "needs_background": "light"
     },
     "output_type": "display_data"
    }
   ],
   "source": [
    "pd.DataFrame(model_history.history).plot(figsize=(8,5))\n",
    "plt.grid(True)\n",
    "plt.gca().set_ylim(0,1)\n",
    "plt.show()"
   ]
  },
  {
   "cell_type": "markdown",
   "id": "37d50652",
   "metadata": {},
   "source": [
    "### As we see the graph is still going down, meaning that if we run some more epochs, this will further decrease the loss and improve the accuracy of our model."
   ]
  },
  {
   "cell_type": "markdown",
   "id": "a025ccd2",
   "metadata": {},
   "source": [
    "### Note - Keras have the weights and biass value in memory, so if we rerun the code again it will not start training from the start, it will start training from last position only."
   ]
  },
  {
   "cell_type": "code",
   "execution_count": 22,
   "id": "84c92b5e",
   "metadata": {},
   "outputs": [
    {
     "name": "stdout",
     "output_type": "stream",
     "text": [
      "Epoch 1/20\n",
      "363/363 [==============================] - 0s 624us/step - loss: 0.3894 - mae: 0.4483 - val_loss: 0.4350 - val_mae: 0.4829\n",
      "Epoch 2/20\n",
      "363/363 [==============================] - 0s 560us/step - loss: 0.3872 - mae: 0.4463 - val_loss: 0.4379 - val_mae: 0.4901\n",
      "Epoch 3/20\n",
      "363/363 [==============================] - 0s 558us/step - loss: 0.3853 - mae: 0.4457 - val_loss: 0.4337 - val_mae: 0.4815\n",
      "Epoch 4/20\n",
      "363/363 [==============================] - 0s 569us/step - loss: 0.3830 - mae: 0.4437 - val_loss: 0.4348 - val_mae: 0.4875\n",
      "Epoch 5/20\n",
      "363/363 [==============================] - 0s 569us/step - loss: 0.3816 - mae: 0.4426 - val_loss: 0.4309 - val_mae: 0.4805\n",
      "Epoch 6/20\n",
      "363/363 [==============================] - 0s 566us/step - loss: 0.3794 - mae: 0.4416 - val_loss: 0.4308 - val_mae: 0.4801\n",
      "Epoch 7/20\n",
      "363/363 [==============================] - 0s 560us/step - loss: 0.3781 - mae: 0.4403 - val_loss: 0.4292 - val_mae: 0.4794\n",
      "Epoch 8/20\n",
      "363/363 [==============================] - 0s 560us/step - loss: 0.3765 - mae: 0.4393 - val_loss: 0.4273 - val_mae: 0.4762\n",
      "Epoch 9/20\n",
      "363/363 [==============================] - 0s 560us/step - loss: 0.3749 - mae: 0.4387 - val_loss: 0.4262 - val_mae: 0.4756\n",
      "Epoch 10/20\n",
      "363/363 [==============================] - 0s 577us/step - loss: 0.3734 - mae: 0.4378 - val_loss: 0.4251 - val_mae: 0.4717\n",
      "Epoch 11/20\n",
      "363/363 [==============================] - 0s 558us/step - loss: 0.3724 - mae: 0.4363 - val_loss: 0.4244 - val_mae: 0.4740\n",
      "Epoch 12/20\n",
      "363/363 [==============================] - 0s 558us/step - loss: 0.3710 - mae: 0.4358 - val_loss: 0.4239 - val_mae: 0.4720\n",
      "Epoch 13/20\n",
      "363/363 [==============================] - 0s 560us/step - loss: 0.3699 - mae: 0.4348 - val_loss: 0.4249 - val_mae: 0.4777\n",
      "Epoch 14/20\n",
      "363/363 [==============================] - 0s 626us/step - loss: 0.3687 - mae: 0.4338 - val_loss: 0.4242 - val_mae: 0.4760\n",
      "Epoch 15/20\n",
      "363/363 [==============================] - 0s 571us/step - loss: 0.3676 - mae: 0.4335 - val_loss: 0.4223 - val_mae: 0.4729\n",
      "Epoch 16/20\n",
      "363/363 [==============================] - 0s 558us/step - loss: 0.3666 - mae: 0.4328 - val_loss: 0.4229 - val_mae: 0.4743\n",
      "Epoch 17/20\n",
      "363/363 [==============================] - 0s 571us/step - loss: 0.3653 - mae: 0.4319 - val_loss: 0.4218 - val_mae: 0.4717\n",
      "Epoch 18/20\n",
      "363/363 [==============================] - 0s 555us/step - loss: 0.3647 - mae: 0.4312 - val_loss: 0.4217 - val_mae: 0.4704\n",
      "Epoch 19/20\n",
      "363/363 [==============================] - 0s 558us/step - loss: 0.3632 - mae: 0.4300 - val_loss: 0.4214 - val_mae: 0.4699\n",
      "Epoch 20/20\n",
      "363/363 [==============================] - 0s 566us/step - loss: 0.3624 - mae: 0.4295 - val_loss: 0.4201 - val_mae: 0.4720\n"
     ]
    }
   ],
   "source": [
    "# rerunning same code for 20 more epochs i.e total 40 epochs\n",
    "model_history =model.fit(X_train, y_train, epochs=20, validation_data=(X_valid,y_valid))"
   ]
  },
  {
   "cell_type": "code",
   "execution_count": 23,
   "id": "d58c20ff",
   "metadata": {},
   "outputs": [
    {
     "name": "stdout",
     "output_type": "stream",
     "text": [
      "162/162 [==============================] - 0s 400us/step - loss: 0.3861 - mae: 0.4524\n"
     ]
    }
   ],
   "source": [
    "mae_test = model.evaluate(X_test, y_test)"
   ]
  },
  {
   "cell_type": "markdown",
   "id": "9d3f2e96",
   "metadata": {},
   "source": [
    "#### Here we see the decrement in loss from 40 to 38"
   ]
  },
  {
   "cell_type": "code",
   "execution_count": 24,
   "id": "796810c1",
   "metadata": {},
   "outputs": [
    {
     "data": {
      "text/plain": [
       "{'loss': [0.3893730938434601,\n",
       "  0.38719499111175537,\n",
       "  0.3852682411670685,\n",
       "  0.3830026090145111,\n",
       "  0.38159120082855225,\n",
       "  0.37943801283836365,\n",
       "  0.37812933325767517,\n",
       "  0.3764858841896057,\n",
       "  0.3749067485332489,\n",
       "  0.3733694851398468,\n",
       "  0.37244096398353577,\n",
       "  0.3709791898727417,\n",
       "  0.3698503375053406,\n",
       "  0.3686806559562683,\n",
       "  0.36762359738349915,\n",
       "  0.3665948808193207,\n",
       "  0.3652607500553131,\n",
       "  0.3647005558013916,\n",
       "  0.36319971084594727,\n",
       "  0.36240020394325256],\n",
       " 'mae': [0.4482833743095398,\n",
       "  0.44631659984588623,\n",
       "  0.44572460651397705,\n",
       "  0.4437309205532074,\n",
       "  0.4426022171974182,\n",
       "  0.44158807396888733,\n",
       "  0.4403378665447235,\n",
       "  0.4392853081226349,\n",
       "  0.43872252106666565,\n",
       "  0.43780314922332764,\n",
       "  0.43629753589630127,\n",
       "  0.4357509911060333,\n",
       "  0.43475717306137085,\n",
       "  0.43383893370628357,\n",
       "  0.4334556460380554,\n",
       "  0.4328222870826721,\n",
       "  0.43188223242759705,\n",
       "  0.4311762750148773,\n",
       "  0.4300403594970703,\n",
       "  0.4295453429222107],\n",
       " 'val_loss': [0.43495824933052063,\n",
       "  0.4378911256790161,\n",
       "  0.43371012806892395,\n",
       "  0.43475252389907837,\n",
       "  0.43088048696517944,\n",
       "  0.4307698905467987,\n",
       "  0.4291516840457916,\n",
       "  0.4273282289505005,\n",
       "  0.4262358546257019,\n",
       "  0.4250902235507965,\n",
       "  0.4243941009044647,\n",
       "  0.42389896512031555,\n",
       "  0.42490410804748535,\n",
       "  0.4242215156555176,\n",
       "  0.4223386347293854,\n",
       "  0.4228508770465851,\n",
       "  0.4218294620513916,\n",
       "  0.4217117428779602,\n",
       "  0.421426385641098,\n",
       "  0.4201142191886902],\n",
       " 'val_mae': [0.48292919993400574,\n",
       "  0.4900643825531006,\n",
       "  0.4814804792404175,\n",
       "  0.48752450942993164,\n",
       "  0.4804656505584717,\n",
       "  0.4800994396209717,\n",
       "  0.4794177711009979,\n",
       "  0.47615697979927063,\n",
       "  0.47558560967445374,\n",
       "  0.4717377722263336,\n",
       "  0.4739694893360138,\n",
       "  0.47199198603630066,\n",
       "  0.47768813371658325,\n",
       "  0.4760335683822632,\n",
       "  0.4728527367115021,\n",
       "  0.4743310213088989,\n",
       "  0.47173625230789185,\n",
       "  0.47036615014076233,\n",
       "  0.46988359093666077,\n",
       "  0.47201043367385864]}"
      ]
     },
     "execution_count": 24,
     "metadata": {},
     "output_type": "execute_result"
    }
   ],
   "source": [
    "model_history.history"
   ]
  },
  {
   "cell_type": "code",
   "execution_count": 25,
   "id": "9cff0c44",
   "metadata": {},
   "outputs": [
    {
     "data": {
      "image/png": "[encoded data removed]",
      "text/plain": [
       "<Figure size 576x360 with 1 Axes>"
      ]
     },
     "metadata": {
      "needs_background": "light"
     },
     "output_type": "display_data"
    }
   ],
   "source": [
    "pd.DataFrame(model_history.history).plot(figsize=(8,5))\n",
    "plt.grid(True)\n",
    "plt.gca().set_ylim(0,1)\n",
    "plt.show()"
   ]
  },
  {
   "cell_type": "markdown",
   "id": "79eb118a",
   "metadata": {},
   "source": [
    "### Now we can see that lines the lines is flattened out. it means we have achive the convergence in model."
   ]
  },
  {
   "cell_type": "markdown",
   "id": "7703c698",
   "metadata": {},
   "source": [
    "### Predicting values in new dataset"
   ]
  },
  {
   "cell_type": "code",
   "execution_count": 27,
   "id": "4834b243",
   "metadata": {},
   "outputs": [],
   "source": [
    "# creating sample of first 3 values of X dataset\n",
    "X_new =X_test[:3]"
   ]
  },
  {
   "cell_type": "code",
   "execution_count": 28,
   "id": "e13b9857",
   "metadata": {},
   "outputs": [
    {
     "name": "stdout",
     "output_type": "stream",
     "text": [
      "[[0.8231531]\n",
      " [1.9255586]\n",
      " [4.7815685]]\n",
      "[0.477   0.458   5.00001]\n"
     ]
    }
   ],
   "source": [
    "y_pred = model.predict(X_new)\n",
    "print (y_pred)\n",
    "print(y_test[:3])"
   ]
  },
  {
   "cell_type": "markdown",
   "id": "4bbeceb1",
   "metadata": {},
   "source": [
    "## Saving and Resoring Model"
   ]
  },
  {
   "cell_type": "code",
   "execution_count": 29,
   "id": "7031642a",
   "metadata": {},
   "outputs": [
    {
     "name": "stdout",
     "output_type": "stream",
     "text": [
      "WARNING:tensorflow:From C:\\Users\\Admin\\anaconda3\\lib\\site-packages\\tensorflow\\python\\training\\tracking\\tracking.py:111: Model.state_updates (from tensorflow.python.keras.engine.training) is deprecated and will be removed in a future version.\n",
      "Instructions for updating:\n",
      "This property should not be used in TensorFlow 2.0, as updates are applied automatically.\n",
      "WARNING:tensorflow:From C:\\Users\\Admin\\anaconda3\\lib\\site-packages\\tensorflow\\python\\training\\tracking\\tracking.py:111: Layer.updates (from tensorflow.python.keras.engine.base_layer) is deprecated and will be removed in a future version.\n",
      "Instructions for updating:\n",
      "This property should not be used in TensorFlow 2.0, as updates are applied automatically.\n",
      "INFO:tensorflow:Assets written to: Regression model using keras.\\assets\n"
     ]
    }
   ],
   "source": [
    "model.save(\"Regression model using keras.\")"
   ]
  },
  {
   "cell_type": "markdown",
   "id": "f5755ece",
   "metadata": {},
   "source": [
    "### Location"
   ]
  },
  {
   "cell_type": "code",
   "execution_count": 30,
   "id": "c478446c",
   "metadata": {},
   "outputs": [
    {
     "data": {
      "text/plain": [
       "'C:\\\\Users\\\\Admin'"
      ]
     },
     "execution_count": 30,
     "metadata": {},
     "output_type": "execute_result"
    }
   ],
   "source": [
    "%pwd"
   ]
  },
  {
   "cell_type": "code",
   "execution_count": 31,
   "id": "8d2f217c",
   "metadata": {},
   "outputs": [],
   "source": [
    "del model"
   ]
  },
  {
   "cell_type": "code",
   "execution_count": 32,
   "id": "84b102e6",
   "metadata": {},
   "outputs": [],
   "source": [
    "keras.backend.clear_session()"
   ]
  },
  {
   "cell_type": "code",
   "execution_count": 33,
   "id": "7f0c23ab",
   "metadata": {},
   "outputs": [],
   "source": [
    "model = keras.models.load_model(\"Regression model using keras.\")"
   ]
  },
  {
   "cell_type": "code",
   "execution_count": 34,
   "id": "f8f1fca3",
   "metadata": {},
   "outputs": [
    {
     "name": "stdout",
     "output_type": "stream",
     "text": [
      "Model: \"sequential_2\"\n",
      "_________________________________________________________________\n",
      "Layer (type)                 Output Shape              Param #   \n",
      "=================================================================\n",
      "dense_6 (Dense)              (None, 30)                270       \n",
      "_________________________________________________________________\n",
      "dense_7 (Dense)              (None, 30)                930       \n",
      "_________________________________________________________________\n",
      "dense_8 (Dense)              (None, 1)                 31        \n",
      "=================================================================\n",
      "Total params: 1,231\n",
      "Trainable params: 1,231\n",
      "Non-trainable params: 0\n",
      "_________________________________________________________________\n"
     ]
    }
   ],
   "source": [
    "model.summary()"
   ]
  }
 ],
 "metadata": {
  "kernelspec": {
   "display_name": "Python 3 (ipykernel)",
   "language": "python",
   "name": "python3"
  },
  "language_info": {
   "codemirror_mode": {
    "name": "ipython",
    "version": 3
   },
   "file_extension": ".py",
   "mimetype": "text/x-python",
   "name": "python",
   "nbconvert_exporter": "python",
   "pygments_lexer": "ipython3",
   "version": "3.8.12"
  }
 },
 "nbformat": 4,
 "nbformat_minor": 5
}
